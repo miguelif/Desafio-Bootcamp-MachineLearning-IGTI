{
  "nbformat": 4,
  "nbformat_minor": 0,
  "metadata": {
    "colab": {
      "name": "desafio_FAM.ipynb",
      "provenance": [],
      "collapsed_sections": [],
      "toc_visible": true
    },
    "kernelspec": {
      "name": "python3",
      "display_name": "Python 3"
    }
  },
  "cells": [
    {
      "cell_type": "markdown",
      "metadata": {
        "id": "_cC-B1t9hyVz"
      },
      "source": [
        "# Desafio 01 - Compartilhando Bicicletas - IGTI"
      ]
    },
    {
      "cell_type": "code",
      "metadata": {
        "id": "XkAa6kElhAz9"
      },
      "source": [
        "#importando as bibliotecas\n",
        "import pandas as pd #biblioteca utilizada para o tratamento de dados via dataframes \n",
        "import numpy as np #biblioteca utilizada para o tratamento de valores numéricos (vetores e matrizes)\n",
        "import matplotlib.pyplot as plt #biblioteca utilizada para construir os gráficos\n",
        "import seaborn as sns #biblioteca utilizada para os plots mais bonitos\n",
        "from sklearn.model_selection import train_test_split #biblioteca para a divisão do dataset entre treinamento e teste\n",
        "from google.colab import files  #biblioteca utilizada para carregar os dados para o google colab\n",
        "from scipy import stats #biblioteca para analises estatisticas\n",
        "from sklearn.linear_model import LinearRegression #importa o modelo de regressão linear univariada\n",
        "from sklearn.metrics import r2_score #método para o cálculo do R2 (coeficiente de determinação)\n",
        "from sklearn.preprocessing import MinMaxScaler #Função de processamento para normatizar variável\n",
        "from sklearn.tree import DecisionTreeRegressor  #importando a árvore de decisão como regressor\n",
        "from sklearn import metrics #biblioteca para metricas dos modelos"
      ],
      "execution_count": 5,
      "outputs": []
    },
    {
      "cell_type": "code",
      "metadata": {
        "id": "c3aot9E-li4L"
      },
      "source": [
        "#realizando a leitura do arquivo (dataset)\n",
        "nome_do_arquivo=\"comp_bikes_mod.csv\"\n",
        "df = pd.read_csv(nome_do_arquivo)"
      ],
      "execution_count": 7,
      "outputs": []
    },
    {
      "cell_type": "markdown",
      "metadata": {
        "id": "32lz67FLZQcF"
      },
      "source": [
        "# New Section"
      ]
    },
    {
      "cell_type": "markdown",
      "metadata": {
        "id": "vVcyL6P1iyQN"
      },
      "source": [
        "No dataset utilizado para o desafio, quantas instâncias e atributos existem, respectivamente?"
      ]
    },
    {
      "cell_type": "code",
      "metadata": {
        "colab": {
          "base_uri": "https://localhost:8080/"
        },
        "id": "8KKtu_9di3K_",
        "outputId": "7217d3b4-bccb-48af-9155-4a4b03baa1f2"
      },
      "source": [
        "# atributo para mostrar a quantidade de linha e colunas temos\n",
        "df.shape"
      ],
      "execution_count": 8,
      "outputs": [
        {
          "output_type": "execute_result",
          "data": {
            "text/plain": [
              "(17379, 17)"
            ]
          },
          "metadata": {
            "tags": []
          },
          "execution_count": 8
        }
      ]
    },
    {
      "cell_type": "markdown",
      "metadata": {
        "id": "MOfzm0UFjENy"
      },
      "source": [
        "Quantos tipos diferentes de dados existem no dataset do desafio?"
      ]
    },
    {
      "cell_type": "code",
      "metadata": {
        "colab": {
          "base_uri": "https://localhost:8080/"
        },
        "id": "17PydbNbjHyP",
        "outputId": "a0f9043e-300f-4dd9-f509-8fada3c90a95"
      },
      "source": [
        "# conta a quantidade de dos tipos de dados de cada coluna\n",
        "df.dtypes.value_counts()"
      ],
      "execution_count": 9,
      "outputs": [
        {
          "output_type": "execute_result",
          "data": {
            "text/plain": [
              "float64    16\n",
              "object      1\n",
              "dtype: int64"
            ]
          },
          "metadata": {
            "tags": []
          },
          "execution_count": 9
        }
      ]
    },
    {
      "cell_type": "markdown",
      "metadata": {
        "id": "RMxGBfupp_Yf"
      },
      "source": [
        "Qual é a proporção (em %) de valores nulos existente na coluna \"temp\" (temperatura ambiente normalizada)?"
      ]
    },
    {
      "cell_type": "code",
      "metadata": {
        "colab": {
          "base_uri": "https://localhost:8080/",
          "height": 570
        },
        "id": "uCWhMuHkgmfq",
        "outputId": "4cb52f01-9184-49d0-c079-4e1f14ffdc56"
      },
      "source": [
        "# Funcao para verificar valores nulos no dataset\n",
        "def check_nulos(df, display = 10):\n",
        "    temp_df = df.copy()\n",
        "    df_nan = (temp_df.isnull().sum() / len(temp_df)) * 100\n",
        "    nulos_data = pd.DataFrame({'nulos': temp_df.isnull().sum(),'% nulos' :df_nan})\n",
        "    if nulos_data['nulos'].sum() == 0:\n",
        "        return print('Ótimo! Não há mais valores faltantes neste dataset.')\n",
        "    else:\n",
        "        return nulos_data.sort_values('% nulos', ascending = False).head(display)\n",
        "\n",
        "# Verificando as colunas com dados nulos do dataset\n",
        "check_nulos(df, display = 17)"
      ],
      "execution_count": 10,
      "outputs": [
        {
          "output_type": "execute_result",
          "data": {
            "text/html": [
              "<div>\n",
              "<style scoped>\n",
              "    .dataframe tbody tr th:only-of-type {\n",
              "        vertical-align: middle;\n",
              "    }\n",
              "\n",
              "    .dataframe tbody tr th {\n",
              "        vertical-align: top;\n",
              "    }\n",
              "\n",
              "    .dataframe thead th {\n",
              "        text-align: right;\n",
              "    }\n",
              "</style>\n",
              "<table border=\"1\" class=\"dataframe\">\n",
              "  <thead>\n",
              "    <tr style=\"text-align: right;\">\n",
              "      <th></th>\n",
              "      <th>nulos</th>\n",
              "      <th>% nulos</th>\n",
              "    </tr>\n",
              "  </thead>\n",
              "  <tbody>\n",
              "    <tr>\n",
              "      <th>instant</th>\n",
              "      <td>1738</td>\n",
              "      <td>10.000575</td>\n",
              "    </tr>\n",
              "    <tr>\n",
              "      <th>weathersit</th>\n",
              "      <td>1738</td>\n",
              "      <td>10.000575</td>\n",
              "    </tr>\n",
              "    <tr>\n",
              "      <th>registered</th>\n",
              "      <td>1738</td>\n",
              "      <td>10.000575</td>\n",
              "    </tr>\n",
              "    <tr>\n",
              "      <th>casual</th>\n",
              "      <td>1738</td>\n",
              "      <td>10.000575</td>\n",
              "    </tr>\n",
              "    <tr>\n",
              "      <th>windspeed</th>\n",
              "      <td>1738</td>\n",
              "      <td>10.000575</td>\n",
              "    </tr>\n",
              "    <tr>\n",
              "      <th>hum</th>\n",
              "      <td>1738</td>\n",
              "      <td>10.000575</td>\n",
              "    </tr>\n",
              "    <tr>\n",
              "      <th>atemp</th>\n",
              "      <td>1738</td>\n",
              "      <td>10.000575</td>\n",
              "    </tr>\n",
              "    <tr>\n",
              "      <th>temp</th>\n",
              "      <td>1738</td>\n",
              "      <td>10.000575</td>\n",
              "    </tr>\n",
              "    <tr>\n",
              "      <th>workingday</th>\n",
              "      <td>1738</td>\n",
              "      <td>10.000575</td>\n",
              "    </tr>\n",
              "    <tr>\n",
              "      <th>dteday</th>\n",
              "      <td>1738</td>\n",
              "      <td>10.000575</td>\n",
              "    </tr>\n",
              "    <tr>\n",
              "      <th>weekday</th>\n",
              "      <td>1738</td>\n",
              "      <td>10.000575</td>\n",
              "    </tr>\n",
              "    <tr>\n",
              "      <th>holiday</th>\n",
              "      <td>1738</td>\n",
              "      <td>10.000575</td>\n",
              "    </tr>\n",
              "    <tr>\n",
              "      <th>hr</th>\n",
              "      <td>1738</td>\n",
              "      <td>10.000575</td>\n",
              "    </tr>\n",
              "    <tr>\n",
              "      <th>mnth</th>\n",
              "      <td>1738</td>\n",
              "      <td>10.000575</td>\n",
              "    </tr>\n",
              "    <tr>\n",
              "      <th>yr</th>\n",
              "      <td>1738</td>\n",
              "      <td>10.000575</td>\n",
              "    </tr>\n",
              "    <tr>\n",
              "      <th>season</th>\n",
              "      <td>1738</td>\n",
              "      <td>10.000575</td>\n",
              "    </tr>\n",
              "    <tr>\n",
              "      <th>cnt</th>\n",
              "      <td>1738</td>\n",
              "      <td>10.000575</td>\n",
              "    </tr>\n",
              "  </tbody>\n",
              "</table>\n",
              "</div>"
            ],
            "text/plain": [
              "            nulos    % nulos\n",
              "instant      1738  10.000575\n",
              "weathersit   1738  10.000575\n",
              "registered   1738  10.000575\n",
              "casual       1738  10.000575\n",
              "windspeed    1738  10.000575\n",
              "hum          1738  10.000575\n",
              "atemp        1738  10.000575\n",
              "temp         1738  10.000575\n",
              "workingday   1738  10.000575\n",
              "dteday       1738  10.000575\n",
              "weekday      1738  10.000575\n",
              "holiday      1738  10.000575\n",
              "hr           1738  10.000575\n",
              "mnth         1738  10.000575\n",
              "yr           1738  10.000575\n",
              "season       1738  10.000575\n",
              "cnt          1738  10.000575"
            ]
          },
          "metadata": {
            "tags": []
          },
          "execution_count": 10
        }
      ]
    },
    {
      "cell_type": "markdown",
      "metadata": {
        "id": "6H6KdP5EomAM"
      },
      "source": [
        "Após retirar as linhas que contém valores nulos para a coluna \"dteday\", passamos a contar com quantas instancias e atributos, respectivamente?"
      ]
    },
    {
      "cell_type": "code",
      "metadata": {
        "id": "due5fqEGk-fK",
        "colab": {
          "base_uri": "https://localhost:8080/"
        },
        "outputId": "f416ccda-9d14-4eae-e245-b23c38ba9760"
      },
      "source": [
        "# método para apagar linhas com valores faltantes\n",
        "df.dropna(subset=[\"dteday\"],inplace=True)\n",
        "# atributo para mostrar a quantidade de linha e colunas temos\n",
        "df.shape"
      ],
      "execution_count": 11,
      "outputs": [
        {
          "output_type": "execute_result",
          "data": {
            "text/plain": [
              "(15641, 17)"
            ]
          },
          "metadata": {
            "tags": []
          },
          "execution_count": 11
        }
      ]
    },
    {
      "cell_type": "markdown",
      "metadata": {
        "id": "mKtkghQso5X3"
      },
      "source": [
        "Considere o dataset após a retirada das linhas que continham valores nulos para a coluna \"dteday\". Qual é o valor médio para os dados da coluna \"temp\" (temperatura ambiente normalizada)?\n",
        "\n"
      ]
    },
    {
      "cell_type": "code",
      "metadata": {
        "colab": {
          "base_uri": "https://localhost:8080/"
        },
        "id": "l4x4XegLuBRh",
        "outputId": "ed03a017-483b-431e-ba79-e50b6e6af94d"
      },
      "source": [
        "#função para mostrar a média\n",
        "df[\"temp\"].mean()"
      ],
      "execution_count": 12,
      "outputs": [
        {
          "output_type": "execute_result",
          "data": {
            "text/plain": [
              "0.4969259206597582"
            ]
          },
          "metadata": {
            "tags": []
          },
          "execution_count": 12
        }
      ]
    },
    {
      "cell_type": "markdown",
      "metadata": {
        "id": "1QH_-rQLuidd"
      },
      "source": [
        "Considere o dataset após a retirada das linhas que continham valores nulos para a coluna \"dteday\". Qual é o desvio padrão para os dados da coluna \"windspeed\" (velocidade do vento normalizada)?"
      ]
    },
    {
      "cell_type": "code",
      "metadata": {
        "colab": {
          "base_uri": "https://localhost:8080/"
        },
        "id": "tPfojfN4uvho",
        "outputId": "6b600b3f-0c01-44b5-f592-562e1fa72343"
      },
      "source": [
        "# função para mostrar o desvio padrão\n",
        "df[\"windspeed\"].std()"
      ],
      "execution_count": 13,
      "outputs": [
        {
          "output_type": "execute_result",
          "data": {
            "text/plain": [
              "0.12230930508286268"
            ]
          },
          "metadata": {
            "tags": []
          },
          "execution_count": 13
        }
      ]
    },
    {
      "cell_type": "markdown",
      "metadata": {
        "id": "XLRlQ7Hcu8Su"
      },
      "source": [
        "Considere o dataset após a retirada das linhas que continham valores nulos para a coluna \"dteday\". Transforme a coluna \"season\" em valores categóricos. Quantas categorias diferentes existem?"
      ]
    },
    {
      "cell_type": "code",
      "metadata": {
        "colab": {
          "base_uri": "https://localhost:8080/"
        },
        "id": "A9o-vi6AvK7z",
        "outputId": "05b61a2f-750c-4e07-c221-68b21f844cca"
      },
      "source": [
        "#comando para saber os possíveis tipos de dados do seu dataframe\n",
        "df['season'].value_counts()"
      ],
      "execution_count": 23,
      "outputs": [
        {
          "output_type": "execute_result",
          "data": {
            "text/plain": [
              "3.0    3623\n",
              "2.0    3523\n",
              "4.0    3478\n",
              "1.0    3437\n",
              "Name: season, dtype: int64"
            ]
          },
          "metadata": {
            "tags": []
          },
          "execution_count": 23
        }
      ]
    },
    {
      "cell_type": "code",
      "metadata": {
        "colab": {
          "base_uri": "https://localhost:8080/"
        },
        "id": "l0_e7I69cw5p",
        "outputId": "0536970a-6a57-4374-b236-62b1f7c878c3"
      },
      "source": [
        "pd.Categorical(df['season'])"
      ],
      "execution_count": 25,
      "outputs": [
        {
          "output_type": "execute_result",
          "data": {
            "text/plain": [
              "[1.0, 1.0, 1.0, 1.0, 1.0, ..., 1.0, NaN, 1.0, 1.0, NaN]\n",
              "Length: 15641\n",
              "Categories (4, float64): [1.0, 2.0, 3.0, 4.0]"
            ]
          },
          "metadata": {
            "tags": []
          },
          "execution_count": 25
        }
      ]
    },
    {
      "cell_type": "markdown",
      "metadata": {
        "id": "dkmwehGdvsP0"
      },
      "source": [
        "Considere o dataset após a retirada das linhas que continham valores nulos para a coluna \"dteday\". Transforme a coluna \"dteday\" no tipo \"datetime\". Qual é a última data presente no dataset ( YYYY-MM-DD)?"
      ]
    },
    {
      "cell_type": "code",
      "metadata": {
        "colab": {
          "base_uri": "https://localhost:8080/"
        },
        "id": "rJ2eBxkl0NUx",
        "outputId": "76b04f85-6552-4ff1-e16f-2130c6d9c91f"
      },
      "source": [
        "# converte a coluna em data e mostra as ultimas linhas\n",
        "pd.to_datetime(df['dteday']).tail()"
      ],
      "execution_count": 16,
      "outputs": [
        {
          "output_type": "execute_result",
          "data": {
            "text/plain": [
              "17373   2012-12-31\n",
              "17374   2012-12-31\n",
              "17375   2012-12-31\n",
              "17377   2012-12-31\n",
              "17378   2012-12-31\n",
              "Name: dteday, dtype: datetime64[ns]"
            ]
          },
          "metadata": {
            "tags": []
          },
          "execution_count": 16
        }
      ]
    },
    {
      "cell_type": "code",
      "metadata": {
        "colab": {
          "base_uri": "https://localhost:8080/"
        },
        "id": "w484fNcagARl",
        "outputId": "0e82d344-ff15-4eb3-b4f8-6e4d2260857c"
      },
      "source": [
        "df['dteday'].tail()"
      ],
      "execution_count": 26,
      "outputs": [
        {
          "output_type": "execute_result",
          "data": {
            "text/plain": [
              "17373    2012-12-31\n",
              "17374    2012-12-31\n",
              "17375    2012-12-31\n",
              "17377    2012-12-31\n",
              "17378    2012-12-31\n",
              "Name: dteday, dtype: object"
            ]
          },
          "metadata": {
            "tags": []
          },
          "execution_count": 26
        }
      ]
    },
    {
      "cell_type": "markdown",
      "metadata": {
        "id": "SJkOCGAuv7Rt"
      },
      "source": [
        "Considere o dataset após a retirada das linhas que continham valores nulos para a coluna \"dteday\". Considerando o boxplot da variável \"windspeed\" (velocidade do vento), é CORRETO afirmar:"
      ]
    },
    {
      "cell_type": "code",
      "metadata": {
        "colab": {
          "base_uri": "https://localhost:8080/",
          "height": 282
        },
        "id": "WIwQ4cpxjTav",
        "outputId": "4f20d00e-3fb9-4eef-ef45-f91353e117b5"
      },
      "source": [
        "#identificando possíveis outliers\n",
        "df[['windspeed']].boxplot()"
      ],
      "execution_count": 17,
      "outputs": [
        {
          "output_type": "execute_result",
          "data": {
            "text/plain": [
              "<matplotlib.axes._subplots.AxesSubplot at 0x7fa6a8d27518>"
            ]
          },
          "metadata": {
            "tags": []
          },
          "execution_count": 17
        },
        {
          "output_type": "display_data",
          "data": {
            "image/png": "[encoded data removed]",
            "text/plain": [
              "<Figure size 432x288 with 1 Axes>"
            ]
          },
          "metadata": {
            "tags": [],
            "needs_background": "light"
          }
        }
      ]
    },
    {
      "cell_type": "markdown",
      "metadata": {
        "id": "uhG1b67nwI9y"
      },
      "source": [
        "Considere o dataset após a retirada das linhas que continham valores nulos para a coluna \"dteday\". Selecione as colunas \"season\", \"temp\", \"atemp\", \"hum\", \"windspeed\". Plot a matriz de correlação. Sobre as variáveis \"hum\" e \"cnt\", é CORRETO afirmar:"
      ]
    },
    {
      "cell_type": "code",
      "metadata": {
        "colab": {
          "base_uri": "https://localhost:8080/",
          "height": 486
        },
        "id": "GlfVo5jqwHqx",
        "outputId": "11a29c5f-47c9-471b-da16-01c7cb86d560"
      },
      "source": [
        "# Configurando o tamanho da area do grafico\n",
        "plt.figure(figsize=(20, 8))\n",
        "\n",
        "# Selecionando apenas algumas colunas para verificar a correlação\n",
        "corr = df[['season', 'temp', 'atemp', 'hum', 'windspeed', 'cnt']].corr()\n",
        "\n",
        "# Configurar o heatmap\n",
        "sns.heatmap(corr, linewidths=.5, vmin=-1, vmax=1, annot=True, cmap=\"YlGnBu\", fmt='.1g')\n",
        "\n",
        "# Imprimir o grafico\n",
        "plt.show();"
      ],
      "execution_count": 18,
      "outputs": [
        {
          "output_type": "display_data",
          "data": {
            "image/png": "[encoded data removed]",
            "text/plain": [
              "<Figure size 1440x576 with 2 Axes>"
            ]
          },
          "metadata": {
            "tags": [],
            "needs_background": "light"
          }
        }
      ]
    },
    {
      "cell_type": "markdown",
      "metadata": {
        "id": "l2OFCQbHxiuJ"
      },
      "source": [
        "Preencha os valores nulos das colunas \"hum\",\"cnt\" e \"casual\" com os valores médios. Utilize as variáveis \"hum\" e \"casual\" como independentes e a \"cnt\" como dependente. Aplique uma regressão linear. Qual o valor de R2? Utilize as entradas como teste."
      ]
    },
    {
      "cell_type": "code",
      "metadata": {
        "colab": {
          "base_uri": "https://localhost:8080/"
        },
        "id": "9ujJDv92yR09",
        "outputId": "209b0429-9a21-4520-8196-2c184d032b46"
      },
      "source": [
        "# Fazendo previsões com o Modelo Linear Regression\n",
        "\n",
        "# Criando um novo dataset somente com as colunas para a pergunta\n",
        "new_df = df.loc[:, ('hum','casual','cnt')] \n",
        "\n",
        "# Preenchendo os valores nulos com a media de cada uma das colunas\n",
        "new_df.fillna(new_df.mean(), inplace=True)\n",
        "\n",
        "# Verificando as colunas com dados nulos do dataset\n",
        "check_nulos(new_df, display = 3)\n",
        "\n",
        "# Verificando o tamanho do dataset\n",
        "new_df.shape\n",
        "\n",
        "# Separando as features independentes e dependente (target)\n",
        "X = new_df[['hum','casual']]\n",
        "y = new_df['cnt']\n",
        "\n",
        "# Criando o modelo de regressão linear\n",
        "lr_model = LinearRegression()\n",
        "\n",
        "# Fit do modelo\n",
        "lr_model.fit(X, y)\n",
        "\n",
        "# Previsões\n",
        "y_pred = lr_model.predict(X)\n",
        "\n",
        "# Avaliando as previsões\n",
        "accuracy = r2_score(y, y_pred)\n",
        "print(\"\\nScore R2: %0.2f\" % accuracy)"
      ],
      "execution_count": 19,
      "outputs": [
        {
          "output_type": "stream",
          "text": [
            "Ótimo! Não há mais valores faltantes neste dataset.\n",
            "\n",
            "Score R2: 0.41\n"
          ],
          "name": "stdout"
        }
      ]
    },
    {
      "cell_type": "markdown",
      "metadata": {
        "id": "P1C6DVOy0LyR"
      },
      "source": [
        "Utilize os mesmos dados da questão anterior (\"hum\" e \"casual\" como variáveis independentes e \"cnt\" como variavel dependente). Aplique Árvore de Decisão como regressão. Qual é o valor aproximado de R2? Utilize as entradas como teste e valores \"default\"."
      ]
    },
    {
      "cell_type": "code",
      "metadata": {
        "colab": {
          "base_uri": "https://localhost:8080/"
        },
        "id": "BFSzNrZZ0hG3",
        "outputId": "4b75edde-8da9-496c-e79b-758c0ef49cb0"
      },
      "source": [
        "# Fazendo previsões com o Modelo Regressor de árvore de decisão\n",
        "\n",
        "# Criando um novo dataset somente com as colunas para a pergunta\n",
        "new_df = df.loc[:, ('hum','casual','cnt')] \n",
        "\n",
        "# Removendo os valores nulos\n",
        "new_df.fillna(new_df.mean(), inplace=True)\n",
        "\n",
        "# Verificando as colunas com dados nulos do dataset\n",
        "check_nulos(new_df, display = 3)\n",
        "\n",
        "# Verificando o tamanho do dataset\n",
        "new_df.shape\n",
        "\n",
        "# Separando as features independentes e dependente (target)\n",
        "X = new_df[['hum','casual']]\n",
        "y = new_df['cnt']\n",
        "\n",
        "# Criando o modelo de arvore de decisão\n",
        "dt_model = DecisionTreeRegressor()\n",
        "\n",
        "# Fit do modelo\n",
        "dt_model.fit(X, y)\n",
        "\n",
        "# Previsões\n",
        "y_pred = dt_model.predict(X)\n",
        "\n",
        "# Avaliando as previsões\n",
        "accuracy = r2_score(y, y_pred) \n",
        "accuracy"
      ],
      "execution_count": 31,
      "outputs": [
        {
          "output_type": "stream",
          "text": [
            "Ótimo! Não há mais valores faltantes neste dataset.\n"
          ],
          "name": "stdout"
        },
        {
          "output_type": "execute_result",
          "data": {
            "text/plain": [
              "0.7098339715834964"
            ]
          },
          "metadata": {
            "tags": []
          },
          "execution_count": 31
        }
      ]
    },
    {
      "cell_type": "markdown",
      "metadata": {
        "id": "mj6JiKw5Qb9D"
      },
      "source": [
        "Comparando os valores de R2 encontrado com a regressão linear e com a Árvore de Decisão, é CORRETO afirmar:"
      ]
    },
    {
      "cell_type": "code",
      "metadata": {
        "colab": {
          "base_uri": "https://localhost:8080/"
        },
        "id": "tg6OJUKYQeL-",
        "outputId": "0900ea64-c2cb-4ee1-c3c1-743533cef40c"
      },
      "source": [
        "# Fazendo previsões com o Modelo SVM Regressor\n",
        "\n",
        "# Import dos módulos\n",
        "from sklearn.svm import SVR\n",
        "from sklearn.metrics import r2_score\n",
        "\n",
        "# Criando um novo dataset somente com as colunas para a pergunta\n",
        "new_df = df.loc[:, ('hum','casual','cnt')] \n",
        "\n",
        "# Preenchendo os valores nulos com a media de cada uma das colunas\n",
        "new_df.fillna(new_df.mean(), inplace=True)\n",
        "\n",
        "# Verificando as colunas com dados nulos do dataset\n",
        "check_nulos(new_df, display = 3)\n",
        "\n",
        "# Verificando o tamanho do dataset\n",
        "new_df.shape\n",
        "\n",
        "# Separando as features independentes e dependente (target)\n",
        "X = new_df[['hum','casual']]\n",
        "y = new_df['cnt']\n",
        "\n",
        "# Criando o modelo SVM\n",
        "svm_model = SVR(kernel='rbf')\n",
        "\n",
        "# Fit do modelo\n",
        "svm_model.fit(X, y)\n",
        "\n",
        "# Previsões\n",
        "y_pred = svm_model.predict(X)\n",
        "\n",
        "# Avaliando as previsões\n",
        "accuracy = r2_score(y, y_pred)\n",
        "print(\"\\nScore R2: %0.2f\" % accuracy)"
      ],
      "execution_count": 21,
      "outputs": [
        {
          "output_type": "stream",
          "text": [
            "Ótimo! Não há mais valores faltantes neste dataset.\n",
            "\n",
            "Score R2: 0.40\n"
          ],
          "name": "stdout"
        }
      ]
    },
    {
      "cell_type": "code",
      "metadata": {
        "id": "DJ5hglzoqkPc"
      },
      "source": [
        ""
      ],
      "execution_count": 30,
      "outputs": []
    },
    {
      "cell_type": "markdown",
      "metadata": {
        "id": "4ImffgUcSuE-"
      },
      "source": [
        "Comparando o SVM com a Árvore de Decisão é CORRETO afirmar:"
      ]
    },
    {
      "cell_type": "markdown",
      "metadata": {
        "id": "sLVkEaFhaZgY"
      },
      "source": [
        "Logo, para isso serve o algoritmo chamado Support Vector Machine que tem um comportamento muito similar a regressão logística. Além de traçar uma reta ou hiper-plano, o algoritmo cria um limite da distância dos pontos mais distantes entre cada clusters. A margem que será definida, será a maior encontrada depois de inúmeras iterações.\n",
        "\n",
        "Fonte: https://medium.com/@arthurlambletvaz/classificando-o-paladar-das-receitas-svm-bf0fbb185b10"
      ]
    },
    {
      "cell_type": "markdown",
      "metadata": {
        "id": "V9UNdwosZblO"
      },
      "source": [
        "Com base na Árvore de Decisão é CORRETO afirmar:"
      ]
    },
    {
      "cell_type": "markdown",
      "metadata": {
        "id": "CVJoWUHzZuP9"
      },
      "source": [
        "Árvores de decisão são métodos de aprendizado de máquinas supervisionado não-paramétricos, muito utilizados em tarefas de classificação e regressão.\n",
        "\n",
        "Fonte: https://medium.com/machine-learning-beyond-deep-learning/%C3%A1rvores-de-decis%C3%A3o-3f52f6420b69"
      ]
    },
    {
      "cell_type": "code",
      "metadata": {
        "id": "1JhWY_P9Zyy5"
      },
      "source": [
        ""
      ],
      "execution_count": 21,
      "outputs": []
    }
  ]
}